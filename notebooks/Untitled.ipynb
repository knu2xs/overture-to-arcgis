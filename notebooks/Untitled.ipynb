{
 "cells": [
  {
   "cell_type": "code",
   "execution_count": 125,
   "id": "323ce14a-7a72-4210-aee2-286a0f6a7235",
   "metadata": {},
   "outputs": [],
   "source": [
    "import pandas as pd\n",
    "from typing import Optional"
   ]
  },
  {
   "cell_type": "code",
   "execution_count": 126,
   "id": "8bc07e65-f90c-4533-9c76-74464bd5e959",
   "metadata": {},
   "outputs": [],
   "source": [
    "def get_category_in_taxonomy(taxonomy_df: pd.DataFrame, category_code: str, taxonomy_index: int) -> str:\n",
    "    # get the value from the dataframe\n",
    "    taxonomy_res = taxonomy_df.loc[taxonomy_df['category_code'] == category_code, 'overture_taxonomy']\n",
    "\n",
    "    # if something to work with\n",
    "    if len(taxonomy_res) > 0:\n",
    "\n",
    "        # get the list out of the result\n",
    "        taxonomy_lst = taxonomy_res.iat[0]\n",
    "\n",
    "        # pull out the code from the taxonomy at the index\n",
    "        taxonomy_code = taxonomy_lst[taxonomy_index] if taxonomy_index < len(taxonomy_lst) else None\n",
    "\n",
    "    else:\n",
    "        taxonomy_code = None\n",
    "\n",
    "    return taxonomy_code\n",
    "\n",
    "def get_overture_taxonomy_dataframe():\n",
    "    \"\"\"\n",
    "    Retrieve the Overture categories taxonomy as a pandas DataFrame.\n",
    "\n",
    "    Returns:\n",
    "        DataFrame containing the Overture categories taxonomy.\n",
    "    \"\"\"\n",
    "    # Use the raw GitHub URL for the CSV file\n",
    "    url = \"https://raw.githubusercontent.com/OvertureMaps/schema/main/docs/schema/concepts/by-theme/places/overture_categories.csv\"\n",
    "    \n",
    "    # Read the CSV using semicolon as delimiter\n",
    "    df = pd.read_csv(url, sep=';', header=0, dtype='string')\n",
    "    \n",
    "    # format the column names\n",
    "    df.columns = [col.strip().lower().replace(' ', '_') for col in df.columns]\n",
    "    \n",
    "    # Convert the 'Overture Taxonomy' column from string to actual list of strings\n",
    "    df['overture_taxonomy'] = df['overture_taxonomy'].apply(lambda val: val.strip().strip('[]').split(','))\n",
    "    \n",
    "    # strip whitespace from each taxonomy item\n",
    "    df['overture_taxonomy'] = df['overture_taxonomy'].apply(lambda lst: [item.strip() for item in lst])\n",
    "    \n",
    "    # get the maximum depth for category taxonomies\n",
    "    df['list_length'] = df['overture_taxonomy'].str.len()\n",
    "    max_lst_len = df['list_length'].max()\n",
    "\n",
    "    # iterate into maximum depth for \n",
    "    for idx in range(max_lst_len):\n",
    "\n",
    "        # create the name for the category\n",
    "        col_nm = f'category_{idx + 1:02d}'\n",
    "    \n",
    "        # get the overture taxonomy value for the index corresponding to the code\n",
    "        df[col_nm] = df['category_code'].apply(lambda cat_code: get_category_in_taxonomy(df, cat_code, idx))\n",
    "\n",
    "    return df\n",
    "\n",
    "\n",
    "def get_overture_taxonomy(df: Optional[pd.DataFrame] = None) -> dict[str, dict[str, str]]:\n",
    "    \"\"\"\n",
    "    Retrieve the Overture categories taxonomy as a nested dictionary.\n",
    "\n",
    "    Returns:\n",
    "        Nested dictionary containing the Overture categories taxonomy.\n",
    "    \"\"\"\n",
    "    # get the taxonomy dataframe if not provided\n",
    "    if df is None:\n",
    "        df = get_overture_taxonomy_dataframe()\n",
    "\n",
    "    # set index for the dataframe\n",
    "    df.set_index('category_code', inplace=True, drop=True)\n",
    "\n",
    "    # only keep columns describing category levels and convert to dict\n",
    "    cols = [c for c in df.columns if c.startswith('category')]\n",
    "    taxonomy_dict = df.loc[:,cols].to_dict(orient='index')\n",
    "\n",
    "    return taxonomy_dict\n",
    "\n",
    "\n",
    "def get_overture_taxonomy_category_field_max_lengths(df: Optional[pd.DataFrame] = None) -> dict[str, int]:\n",
    "    \"\"\"\n",
    "    Retrieve the maximum lengths of each category field in the Overture taxonomy.\n",
    "\n",
    "    Returns:\n",
    "        Dictionary containing the maximum lengths of each category field.\n",
    "    \"\"\"\n",
    "    # get the taxonomy dataframe if not provided\n",
    "    if df is None:\n",
    "        df = get_overture_taxonomy_dataframe()\n",
    "\n",
    "    # only keep columns describing category levels\n",
    "    cols = [c for c in df.columns if c.startswith('category')]\n",
    "\n",
    "    # create dictionary to hold max lengths\n",
    "    max_lengths = {}\n",
    "\n",
    "    # iterate through the columns and get the max length\n",
    "    for col in cols:\n",
    "        max_len = df[col].str.len().max()\n",
    "        max_lengths[col] = int(max_len) if pd.notnull(max_len) else 0\n",
    "\n",
    "    return max_lengths"
   ]
  },
  {
   "cell_type": "code",
   "execution_count": 127,
   "id": "e394d3e2-2fda-4d68-a5f5-110917d33d8d",
   "metadata": {},
   "outputs": [],
   "source": [
    "taxonomy_df = get_overture_taxonomy_dataframe()"
   ]
  },
  {
   "cell_type": "code",
   "execution_count": 128,
   "id": "faf716f0-4681-4aca-9db2-34c2dd63d4a3",
   "metadata": {},
   "outputs": [],
   "source": [
    "taxonomy_dict = get_overture_taxonomy(taxonomy_df)"
   ]
  },
  {
   "cell_type": "code",
   "execution_count": 129,
   "id": "143fe6b0-70c2-43f3-9dcd-8c7defe98bbf",
   "metadata": {},
   "outputs": [
    {
     "data": {
      "text/plain": [
       "{'category_01': 37,\n",
       " 'category_02': 41,\n",
       " 'category_03': 52,\n",
       " 'category_04': 55,\n",
       " 'category_05': 38,\n",
       " 'category_06': 26}"
      ]
     },
     "execution_count": 129,
     "metadata": {},
     "output_type": "execute_result"
    }
   ],
   "source": [
    "get_overture_taxonomy_category_field_max_lengths(taxonomy_df)"
   ]
  },
  {
   "cell_type": "code",
   "execution_count": null,
   "id": "e9735ecb-d9c2-4bbb-8a58-ec276b5083db",
   "metadata": {},
   "outputs": [],
   "source": []
  }
 ],
 "metadata": {
  "kernelspec": {
   "display_name": "Python 3 (ipykernel)",
   "language": "python",
   "name": "python3"
  },
  "language_info": {
   "codemirror_mode": {
    "name": "ipython",
    "version": 3
   },
   "file_extension": ".py",
   "mimetype": "text/x-python",
   "name": "python",
   "nbconvert_exporter": "python",
   "pygments_lexer": "ipython3",
   "version": "3.11.11"
  }
 },
 "nbformat": 4,
 "nbformat_minor": 5
}
